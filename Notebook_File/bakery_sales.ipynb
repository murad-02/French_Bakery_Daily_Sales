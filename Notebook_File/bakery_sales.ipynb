{
 "cells": [
  {
   "cell_type": "code",
   "execution_count": 1,
   "metadata": {},
   "outputs": [],
   "source": [
    "import numpy as np\n",
    "import pandas as pd\n",
    "import matplotlib.pyplot as plt\n",
    "import seaborn as sns\n",
    "import sklearn\n",
    "import warnings\n",
    "warnings.filterwarnings('ignore')"
   ]
  },
  {
   "cell_type": "code",
   "execution_count": 2,
   "metadata": {},
   "outputs": [],
   "source": [
    "data = pd.read_csv(r'D:\\Machine Learning\\French_Bakery_Daily_Sales\\Dataset\\Bakery sales.csv')"
   ]
  },
  {
   "cell_type": "code",
   "execution_count": 3,
   "metadata": {},
   "outputs": [
    {
     "data": {
      "text/html": [
       "<div>\n",
       "<style scoped>\n",
       "    .dataframe tbody tr th:only-of-type {\n",
       "        vertical-align: middle;\n",
       "    }\n",
       "\n",
       "    .dataframe tbody tr th {\n",
       "        vertical-align: top;\n",
       "    }\n",
       "\n",
       "    .dataframe thead th {\n",
       "        text-align: right;\n",
       "    }\n",
       "</style>\n",
       "<table border=\"1\" class=\"dataframe\">\n",
       "  <thead>\n",
       "    <tr style=\"text-align: right;\">\n",
       "      <th></th>\n",
       "      <th>Unnamed: 0</th>\n",
       "      <th>date</th>\n",
       "      <th>time</th>\n",
       "      <th>ticket_number</th>\n",
       "      <th>article</th>\n",
       "      <th>Quantity</th>\n",
       "      <th>unit_price</th>\n",
       "    </tr>\n",
       "  </thead>\n",
       "  <tbody>\n",
       "    <tr>\n",
       "      <th>0</th>\n",
       "      <td>0</td>\n",
       "      <td>2021-01-02</td>\n",
       "      <td>08:38</td>\n",
       "      <td>150040.0</td>\n",
       "      <td>BAGUETTE</td>\n",
       "      <td>1.0</td>\n",
       "      <td>0,90 €</td>\n",
       "    </tr>\n",
       "    <tr>\n",
       "      <th>1</th>\n",
       "      <td>1</td>\n",
       "      <td>2021-01-02</td>\n",
       "      <td>08:38</td>\n",
       "      <td>150040.0</td>\n",
       "      <td>PAIN AU CHOCOLAT</td>\n",
       "      <td>3.0</td>\n",
       "      <td>1,20 €</td>\n",
       "    </tr>\n",
       "    <tr>\n",
       "      <th>2</th>\n",
       "      <td>4</td>\n",
       "      <td>2021-01-02</td>\n",
       "      <td>09:14</td>\n",
       "      <td>150041.0</td>\n",
       "      <td>PAIN AU CHOCOLAT</td>\n",
       "      <td>2.0</td>\n",
       "      <td>1,20 €</td>\n",
       "    </tr>\n",
       "    <tr>\n",
       "      <th>3</th>\n",
       "      <td>5</td>\n",
       "      <td>2021-01-02</td>\n",
       "      <td>09:14</td>\n",
       "      <td>150041.0</td>\n",
       "      <td>PAIN</td>\n",
       "      <td>1.0</td>\n",
       "      <td>1,15 €</td>\n",
       "    </tr>\n",
       "    <tr>\n",
       "      <th>4</th>\n",
       "      <td>8</td>\n",
       "      <td>2021-01-02</td>\n",
       "      <td>09:25</td>\n",
       "      <td>150042.0</td>\n",
       "      <td>TRADITIONAL BAGUETTE</td>\n",
       "      <td>5.0</td>\n",
       "      <td>1,20 €</td>\n",
       "    </tr>\n",
       "  </tbody>\n",
       "</table>\n",
       "</div>"
      ],
      "text/plain": [
       "   Unnamed: 0        date   time  ticket_number               article  \\\n",
       "0           0  2021-01-02  08:38       150040.0              BAGUETTE   \n",
       "1           1  2021-01-02  08:38       150040.0      PAIN AU CHOCOLAT   \n",
       "2           4  2021-01-02  09:14       150041.0      PAIN AU CHOCOLAT   \n",
       "3           5  2021-01-02  09:14       150041.0                  PAIN   \n",
       "4           8  2021-01-02  09:25       150042.0  TRADITIONAL BAGUETTE   \n",
       "\n",
       "   Quantity unit_price  \n",
       "0       1.0     0,90 €  \n",
       "1       3.0     1,20 €  \n",
       "2       2.0     1,20 €  \n",
       "3       1.0     1,15 €  \n",
       "4       5.0     1,20 €  "
      ]
     },
     "execution_count": 3,
     "metadata": {},
     "output_type": "execute_result"
    }
   ],
   "source": [
    "data.head()"
   ]
  },
  {
   "cell_type": "code",
   "execution_count": 4,
   "metadata": {},
   "outputs": [
    {
     "name": "stdout",
     "output_type": "stream",
     "text": [
      "<class 'pandas.core.frame.DataFrame'>\n",
      "RangeIndex: 234005 entries, 0 to 234004\n",
      "Data columns (total 7 columns):\n",
      " #   Column         Non-Null Count   Dtype  \n",
      "---  ------         --------------   -----  \n",
      " 0   Unnamed: 0     234005 non-null  int64  \n",
      " 1   date           234005 non-null  object \n",
      " 2   time           234005 non-null  object \n",
      " 3   ticket_number  234005 non-null  float64\n",
      " 4   article        234005 non-null  object \n",
      " 5   Quantity       234005 non-null  float64\n",
      " 6   unit_price     234005 non-null  object \n",
      "dtypes: float64(2), int64(1), object(4)\n",
      "memory usage: 12.5+ MB\n"
     ]
    }
   ],
   "source": [
    "data.info()"
   ]
  },
  {
   "cell_type": "code",
   "execution_count": 5,
   "metadata": {},
   "outputs": [
    {
     "data": {
      "text/html": [
       "<div>\n",
       "<style scoped>\n",
       "    .dataframe tbody tr th:only-of-type {\n",
       "        vertical-align: middle;\n",
       "    }\n",
       "\n",
       "    .dataframe tbody tr th {\n",
       "        vertical-align: top;\n",
       "    }\n",
       "\n",
       "    .dataframe thead th {\n",
       "        text-align: right;\n",
       "    }\n",
       "</style>\n",
       "<table border=\"1\" class=\"dataframe\">\n",
       "  <thead>\n",
       "    <tr style=\"text-align: right;\">\n",
       "      <th></th>\n",
       "      <th>Unnamed: 0</th>\n",
       "      <th>ticket_number</th>\n",
       "      <th>Quantity</th>\n",
       "    </tr>\n",
       "  </thead>\n",
       "  <tbody>\n",
       "    <tr>\n",
       "      <th>count</th>\n",
       "      <td>234005.000000</td>\n",
       "      <td>234005.000000</td>\n",
       "      <td>234005.000000</td>\n",
       "    </tr>\n",
       "    <tr>\n",
       "      <th>mean</th>\n",
       "      <td>255205.035854</td>\n",
       "      <td>219201.258738</td>\n",
       "      <td>1.538377</td>\n",
       "    </tr>\n",
       "    <tr>\n",
       "      <th>std</th>\n",
       "      <td>147501.625992</td>\n",
       "      <td>40053.223896</td>\n",
       "      <td>1.289603</td>\n",
       "    </tr>\n",
       "    <tr>\n",
       "      <th>min</th>\n",
       "      <td>0.000000</td>\n",
       "      <td>150040.000000</td>\n",
       "      <td>-200.000000</td>\n",
       "    </tr>\n",
       "    <tr>\n",
       "      <th>25%</th>\n",
       "      <td>127979.000000</td>\n",
       "      <td>184754.000000</td>\n",
       "      <td>1.000000</td>\n",
       "    </tr>\n",
       "    <tr>\n",
       "      <th>50%</th>\n",
       "      <td>254573.000000</td>\n",
       "      <td>218807.000000</td>\n",
       "      <td>1.000000</td>\n",
       "    </tr>\n",
       "    <tr>\n",
       "      <th>75%</th>\n",
       "      <td>382911.000000</td>\n",
       "      <td>253927.000000</td>\n",
       "      <td>2.000000</td>\n",
       "    </tr>\n",
       "    <tr>\n",
       "      <th>max</th>\n",
       "      <td>511395.000000</td>\n",
       "      <td>288913.000000</td>\n",
       "      <td>200.000000</td>\n",
       "    </tr>\n",
       "  </tbody>\n",
       "</table>\n",
       "</div>"
      ],
      "text/plain": [
       "          Unnamed: 0  ticket_number       Quantity\n",
       "count  234005.000000  234005.000000  234005.000000\n",
       "mean   255205.035854  219201.258738       1.538377\n",
       "std    147501.625992   40053.223896       1.289603\n",
       "min         0.000000  150040.000000    -200.000000\n",
       "25%    127979.000000  184754.000000       1.000000\n",
       "50%    254573.000000  218807.000000       1.000000\n",
       "75%    382911.000000  253927.000000       2.000000\n",
       "max    511395.000000  288913.000000     200.000000"
      ]
     },
     "execution_count": 5,
     "metadata": {},
     "output_type": "execute_result"
    }
   ],
   "source": [
    "data.describe()"
   ]
  },
  {
   "cell_type": "code",
   "execution_count": 6,
   "metadata": {},
   "outputs": [
    {
     "data": {
      "text/plain": [
       "Unnamed: 0       0\n",
       "date             0\n",
       "time             0\n",
       "ticket_number    0\n",
       "article          0\n",
       "Quantity         0\n",
       "unit_price       0\n",
       "dtype: int64"
      ]
     },
     "execution_count": 6,
     "metadata": {},
     "output_type": "execute_result"
    }
   ],
   "source": [
    "data.isnull().sum()"
   ]
  },
  {
   "cell_type": "code",
   "execution_count": 7,
   "metadata": {},
   "outputs": [
    {
     "name": "stdout",
     "output_type": "stream",
     "text": [
      "Categorical Features: ['date', 'time', 'article', 'unit_price']\n",
      "Numerical Features: ['Unnamed: 0', 'ticket_number', 'Quantity']\n"
     ]
    }
   ],
   "source": [
    "# Identify categorical and numerical features\n",
    "categorical_features = data.select_dtypes(include=['object']).columns.tolist()\n",
    "numerical_features = data.select_dtypes(include=['number']).columns.tolist()\n",
    "\n",
    "print(\"Categorical Features:\", categorical_features)\n",
    "print(\"Numerical Features:\", numerical_features)"
   ]
  },
  {
   "cell_type": "code",
   "execution_count": 8,
   "metadata": {},
   "outputs": [],
   "source": [
    "# Display the first 5 rows\n",
    "df_head = data.head()\n",
    "\n",
    "# Create a figure and axis\n",
    "fig, ax = plt.subplots(figsize=(10, 2))  # Adjust size as needed\n",
    "ax.axis('off')  # Hide axes\n",
    "\n",
    "# Create table\n",
    "table = ax.table(cellText=df_head.values, colLabels=df_head.columns, loc='center', cellLoc='center')\n",
    "\n",
    "# Save as image\n",
    "plt.savefig('data_head.png', bbox_inches='tight', dpi=200)\n",
    "plt.close()"
   ]
  },
  {
   "cell_type": "code",
   "execution_count": 9,
   "metadata": {},
   "outputs": [],
   "source": [
    "# Display descriptive statistics\n",
    "df_desc = data.describe()\n",
    "\n",
    "fig, ax = plt.subplots(figsize=(10, 3))  # Adjust size as needed\n",
    "ax.axis('off')\n",
    "\n",
    "table = ax.table(cellText=df_desc.values, colLabels=df_desc.columns, rowLabels=df_desc.index, loc='center', cellLoc='center')\n",
    "\n",
    "plt.savefig('data_describe.png', bbox_inches='tight', dpi=200)\n",
    "plt.close()"
   ]
  },
  {
   "cell_type": "code",
   "execution_count": 10,
   "metadata": {},
   "outputs": [
    {
     "name": "stdout",
     "output_type": "stream",
     "text": [
      "   Quantity unit_price  unit_price_clean  price\n",
      "0       1.0     0,90 €              0.90   0.90\n",
      "1       3.0     1,20 €              1.20   3.60\n",
      "2       2.0     1,20 €              1.20   2.40\n",
      "3       1.0     1,15 €              1.15   1.15\n",
      "4       5.0     1,20 €              1.20   6.00\n"
     ]
    }
   ],
   "source": [
    "# Remove euro sign and replace comma with dot, then convert to float\n",
    "data['unit_price_clean'] = data['unit_price'].str.replace('€', '').str.replace(',', '.').str.strip()\n",
    "data['unit_price_clean'] = data['unit_price_clean'].astype(float)\n",
    "\n",
    "# Create the price feature\n",
    "data['price'] = data['Quantity'] * data['unit_price_clean']\n",
    "\n",
    "# Optional: Drop the intermediate column if you don't need it\n",
    "# data.drop('unit_price_clean', axis=1, inplace=True)\n",
    "\n",
    "# Display the first few rows to check\n",
    "print(data[['Quantity', 'unit_price', 'unit_price_clean', 'price']].head())"
   ]
  },
  {
   "cell_type": "code",
   "execution_count": 11,
   "metadata": {},
   "outputs": [
    {
     "data": {
      "text/html": [
       "<div>\n",
       "<style scoped>\n",
       "    .dataframe tbody tr th:only-of-type {\n",
       "        vertical-align: middle;\n",
       "    }\n",
       "\n",
       "    .dataframe tbody tr th {\n",
       "        vertical-align: top;\n",
       "    }\n",
       "\n",
       "    .dataframe thead th {\n",
       "        text-align: right;\n",
       "    }\n",
       "</style>\n",
       "<table border=\"1\" class=\"dataframe\">\n",
       "  <thead>\n",
       "    <tr style=\"text-align: right;\">\n",
       "      <th></th>\n",
       "      <th>Unnamed: 0</th>\n",
       "      <th>date</th>\n",
       "      <th>time</th>\n",
       "      <th>ticket_number</th>\n",
       "      <th>article</th>\n",
       "      <th>Quantity</th>\n",
       "      <th>unit_price</th>\n",
       "      <th>unit_price_clean</th>\n",
       "      <th>price</th>\n",
       "    </tr>\n",
       "  </thead>\n",
       "  <tbody>\n",
       "    <tr>\n",
       "      <th>0</th>\n",
       "      <td>0</td>\n",
       "      <td>2021-01-02</td>\n",
       "      <td>08:38</td>\n",
       "      <td>150040.0</td>\n",
       "      <td>BAGUETTE</td>\n",
       "      <td>1.0</td>\n",
       "      <td>0,90 €</td>\n",
       "      <td>0.90</td>\n",
       "      <td>0.90</td>\n",
       "    </tr>\n",
       "    <tr>\n",
       "      <th>1</th>\n",
       "      <td>1</td>\n",
       "      <td>2021-01-02</td>\n",
       "      <td>08:38</td>\n",
       "      <td>150040.0</td>\n",
       "      <td>PAIN AU CHOCOLAT</td>\n",
       "      <td>3.0</td>\n",
       "      <td>1,20 €</td>\n",
       "      <td>1.20</td>\n",
       "      <td>3.60</td>\n",
       "    </tr>\n",
       "    <tr>\n",
       "      <th>2</th>\n",
       "      <td>4</td>\n",
       "      <td>2021-01-02</td>\n",
       "      <td>09:14</td>\n",
       "      <td>150041.0</td>\n",
       "      <td>PAIN AU CHOCOLAT</td>\n",
       "      <td>2.0</td>\n",
       "      <td>1,20 €</td>\n",
       "      <td>1.20</td>\n",
       "      <td>2.40</td>\n",
       "    </tr>\n",
       "    <tr>\n",
       "      <th>3</th>\n",
       "      <td>5</td>\n",
       "      <td>2021-01-02</td>\n",
       "      <td>09:14</td>\n",
       "      <td>150041.0</td>\n",
       "      <td>PAIN</td>\n",
       "      <td>1.0</td>\n",
       "      <td>1,15 €</td>\n",
       "      <td>1.15</td>\n",
       "      <td>1.15</td>\n",
       "    </tr>\n",
       "    <tr>\n",
       "      <th>4</th>\n",
       "      <td>8</td>\n",
       "      <td>2021-01-02</td>\n",
       "      <td>09:25</td>\n",
       "      <td>150042.0</td>\n",
       "      <td>TRADITIONAL BAGUETTE</td>\n",
       "      <td>5.0</td>\n",
       "      <td>1,20 €</td>\n",
       "      <td>1.20</td>\n",
       "      <td>6.00</td>\n",
       "    </tr>\n",
       "  </tbody>\n",
       "</table>\n",
       "</div>"
      ],
      "text/plain": [
       "   Unnamed: 0        date   time  ticket_number               article  \\\n",
       "0           0  2021-01-02  08:38       150040.0              BAGUETTE   \n",
       "1           1  2021-01-02  08:38       150040.0      PAIN AU CHOCOLAT   \n",
       "2           4  2021-01-02  09:14       150041.0      PAIN AU CHOCOLAT   \n",
       "3           5  2021-01-02  09:14       150041.0                  PAIN   \n",
       "4           8  2021-01-02  09:25       150042.0  TRADITIONAL BAGUETTE   \n",
       "\n",
       "   Quantity unit_price  unit_price_clean  price  \n",
       "0       1.0     0,90 €              0.90   0.90  \n",
       "1       3.0     1,20 €              1.20   3.60  \n",
       "2       2.0     1,20 €              1.20   2.40  \n",
       "3       1.0     1,15 €              1.15   1.15  \n",
       "4       5.0     1,20 €              1.20   6.00  "
      ]
     },
     "execution_count": 11,
     "metadata": {},
     "output_type": "execute_result"
    }
   ],
   "source": [
    "data.head()"
   ]
  },
  {
   "cell_type": "code",
   "execution_count": 12,
   "metadata": {},
   "outputs": [
    {
     "name": "stdout",
     "output_type": "stream",
     "text": [
      "Index(['date', 'time', 'ticket_number', 'article', 'Quantity', 'unit_price',\n",
      "       'unit_price_clean', 'price'],\n",
      "      dtype='object')\n"
     ]
    }
   ],
   "source": [
    "# Drop the 'Unnamed: 0' column\n",
    "data = data.drop('Unnamed: 0', axis=1)\n",
    "\n",
    "# Optional: Check the columns to confirm\n",
    "print(data.columns)"
   ]
  },
  {
   "cell_type": "code",
   "execution_count": 13,
   "metadata": {},
   "outputs": [
    {
     "data": {
      "text/html": [
       "<div>\n",
       "<style scoped>\n",
       "    .dataframe tbody tr th:only-of-type {\n",
       "        vertical-align: middle;\n",
       "    }\n",
       "\n",
       "    .dataframe tbody tr th {\n",
       "        vertical-align: top;\n",
       "    }\n",
       "\n",
       "    .dataframe thead th {\n",
       "        text-align: right;\n",
       "    }\n",
       "</style>\n",
       "<table border=\"1\" class=\"dataframe\">\n",
       "  <thead>\n",
       "    <tr style=\"text-align: right;\">\n",
       "      <th></th>\n",
       "      <th>date</th>\n",
       "      <th>time</th>\n",
       "      <th>ticket_number</th>\n",
       "      <th>article</th>\n",
       "      <th>Quantity</th>\n",
       "      <th>unit_price</th>\n",
       "      <th>unit_price_clean</th>\n",
       "      <th>price</th>\n",
       "    </tr>\n",
       "  </thead>\n",
       "  <tbody>\n",
       "    <tr>\n",
       "      <th>0</th>\n",
       "      <td>2021-01-02</td>\n",
       "      <td>08:38</td>\n",
       "      <td>150040.0</td>\n",
       "      <td>BAGUETTE</td>\n",
       "      <td>1.0</td>\n",
       "      <td>0,90 €</td>\n",
       "      <td>0.90</td>\n",
       "      <td>0.90</td>\n",
       "    </tr>\n",
       "    <tr>\n",
       "      <th>1</th>\n",
       "      <td>2021-01-02</td>\n",
       "      <td>08:38</td>\n",
       "      <td>150040.0</td>\n",
       "      <td>PAIN AU CHOCOLAT</td>\n",
       "      <td>3.0</td>\n",
       "      <td>1,20 €</td>\n",
       "      <td>1.20</td>\n",
       "      <td>3.60</td>\n",
       "    </tr>\n",
       "    <tr>\n",
       "      <th>2</th>\n",
       "      <td>2021-01-02</td>\n",
       "      <td>09:14</td>\n",
       "      <td>150041.0</td>\n",
       "      <td>PAIN AU CHOCOLAT</td>\n",
       "      <td>2.0</td>\n",
       "      <td>1,20 €</td>\n",
       "      <td>1.20</td>\n",
       "      <td>2.40</td>\n",
       "    </tr>\n",
       "    <tr>\n",
       "      <th>3</th>\n",
       "      <td>2021-01-02</td>\n",
       "      <td>09:14</td>\n",
       "      <td>150041.0</td>\n",
       "      <td>PAIN</td>\n",
       "      <td>1.0</td>\n",
       "      <td>1,15 €</td>\n",
       "      <td>1.15</td>\n",
       "      <td>1.15</td>\n",
       "    </tr>\n",
       "    <tr>\n",
       "      <th>4</th>\n",
       "      <td>2021-01-02</td>\n",
       "      <td>09:25</td>\n",
       "      <td>150042.0</td>\n",
       "      <td>TRADITIONAL BAGUETTE</td>\n",
       "      <td>5.0</td>\n",
       "      <td>1,20 €</td>\n",
       "      <td>1.20</td>\n",
       "      <td>6.00</td>\n",
       "    </tr>\n",
       "  </tbody>\n",
       "</table>\n",
       "</div>"
      ],
      "text/plain": [
       "         date   time  ticket_number               article  Quantity  \\\n",
       "0  2021-01-02  08:38       150040.0              BAGUETTE       1.0   \n",
       "1  2021-01-02  08:38       150040.0      PAIN AU CHOCOLAT       3.0   \n",
       "2  2021-01-02  09:14       150041.0      PAIN AU CHOCOLAT       2.0   \n",
       "3  2021-01-02  09:14       150041.0                  PAIN       1.0   \n",
       "4  2021-01-02  09:25       150042.0  TRADITIONAL BAGUETTE       5.0   \n",
       "\n",
       "  unit_price  unit_price_clean  price  \n",
       "0     0,90 €              0.90   0.90  \n",
       "1     1,20 €              1.20   3.60  \n",
       "2     1,20 €              1.20   2.40  \n",
       "3     1,15 €              1.15   1.15  \n",
       "4     1,20 €              1.20   6.00  "
      ]
     },
     "execution_count": 13,
     "metadata": {},
     "output_type": "execute_result"
    }
   ],
   "source": [
    "data.head()"
   ]
  },
  {
   "cell_type": "code",
   "execution_count": 14,
   "metadata": {},
   "outputs": [
    {
     "name": "stdout",
     "output_type": "stream",
     "text": [
      "        date  day\n",
      "0 2021-01-02    2\n",
      "1 2021-01-02    2\n",
      "2 2021-01-02    2\n",
      "3 2021-01-02    2\n",
      "4 2021-01-02    2\n"
     ]
    }
   ],
   "source": [
    "# Ensure the 'date' column is in datetime format\n",
    "data['date'] = pd.to_datetime(data['date'])\n",
    "\n",
    "# Create a 'day' column (day of the month)\n",
    "data['day'] = data['date'].dt.day\n",
    "\n",
    "# Display the first few rows to check\n",
    "print(data[['date', 'day']].head())"
   ]
  },
  {
   "cell_type": "code",
   "execution_count": 15,
   "metadata": {},
   "outputs": [
    {
     "name": "stdout",
     "output_type": "stream",
     "text": [
      "Index(['date', 'time', 'ticket_number', 'article', 'Quantity', 'unit_price',\n",
      "       'unit_price_clean', 'price', 'day_of_the_month'],\n",
      "      dtype='object')\n"
     ]
    }
   ],
   "source": [
    "data = data.rename(columns={'day': 'day_of_the_month'})\n",
    "\n",
    "# Optional: Check the columns to confirm\n",
    "print(data.columns)"
   ]
  },
  {
   "cell_type": "code",
   "execution_count": 16,
   "metadata": {},
   "outputs": [
    {
     "data": {
      "text/html": [
       "<div>\n",
       "<style scoped>\n",
       "    .dataframe tbody tr th:only-of-type {\n",
       "        vertical-align: middle;\n",
       "    }\n",
       "\n",
       "    .dataframe tbody tr th {\n",
       "        vertical-align: top;\n",
       "    }\n",
       "\n",
       "    .dataframe thead th {\n",
       "        text-align: right;\n",
       "    }\n",
       "</style>\n",
       "<table border=\"1\" class=\"dataframe\">\n",
       "  <thead>\n",
       "    <tr style=\"text-align: right;\">\n",
       "      <th></th>\n",
       "      <th>date</th>\n",
       "      <th>time</th>\n",
       "      <th>ticket_number</th>\n",
       "      <th>article</th>\n",
       "      <th>Quantity</th>\n",
       "      <th>unit_price</th>\n",
       "      <th>unit_price_clean</th>\n",
       "      <th>price</th>\n",
       "      <th>day_of_the_month</th>\n",
       "    </tr>\n",
       "  </thead>\n",
       "  <tbody>\n",
       "    <tr>\n",
       "      <th>0</th>\n",
       "      <td>2021-01-02</td>\n",
       "      <td>08:38</td>\n",
       "      <td>150040.0</td>\n",
       "      <td>BAGUETTE</td>\n",
       "      <td>1.0</td>\n",
       "      <td>0,90 €</td>\n",
       "      <td>0.90</td>\n",
       "      <td>0.90</td>\n",
       "      <td>2</td>\n",
       "    </tr>\n",
       "    <tr>\n",
       "      <th>1</th>\n",
       "      <td>2021-01-02</td>\n",
       "      <td>08:38</td>\n",
       "      <td>150040.0</td>\n",
       "      <td>PAIN AU CHOCOLAT</td>\n",
       "      <td>3.0</td>\n",
       "      <td>1,20 €</td>\n",
       "      <td>1.20</td>\n",
       "      <td>3.60</td>\n",
       "      <td>2</td>\n",
       "    </tr>\n",
       "    <tr>\n",
       "      <th>2</th>\n",
       "      <td>2021-01-02</td>\n",
       "      <td>09:14</td>\n",
       "      <td>150041.0</td>\n",
       "      <td>PAIN AU CHOCOLAT</td>\n",
       "      <td>2.0</td>\n",
       "      <td>1,20 €</td>\n",
       "      <td>1.20</td>\n",
       "      <td>2.40</td>\n",
       "      <td>2</td>\n",
       "    </tr>\n",
       "    <tr>\n",
       "      <th>3</th>\n",
       "      <td>2021-01-02</td>\n",
       "      <td>09:14</td>\n",
       "      <td>150041.0</td>\n",
       "      <td>PAIN</td>\n",
       "      <td>1.0</td>\n",
       "      <td>1,15 €</td>\n",
       "      <td>1.15</td>\n",
       "      <td>1.15</td>\n",
       "      <td>2</td>\n",
       "    </tr>\n",
       "    <tr>\n",
       "      <th>4</th>\n",
       "      <td>2021-01-02</td>\n",
       "      <td>09:25</td>\n",
       "      <td>150042.0</td>\n",
       "      <td>TRADITIONAL BAGUETTE</td>\n",
       "      <td>5.0</td>\n",
       "      <td>1,20 €</td>\n",
       "      <td>1.20</td>\n",
       "      <td>6.00</td>\n",
       "      <td>2</td>\n",
       "    </tr>\n",
       "  </tbody>\n",
       "</table>\n",
       "</div>"
      ],
      "text/plain": [
       "        date   time  ticket_number               article  Quantity unit_price  \\\n",
       "0 2021-01-02  08:38       150040.0              BAGUETTE       1.0     0,90 €   \n",
       "1 2021-01-02  08:38       150040.0      PAIN AU CHOCOLAT       3.0     1,20 €   \n",
       "2 2021-01-02  09:14       150041.0      PAIN AU CHOCOLAT       2.0     1,20 €   \n",
       "3 2021-01-02  09:14       150041.0                  PAIN       1.0     1,15 €   \n",
       "4 2021-01-02  09:25       150042.0  TRADITIONAL BAGUETTE       5.0     1,20 €   \n",
       "\n",
       "   unit_price_clean  price  day_of_the_month  \n",
       "0              0.90   0.90                 2  \n",
       "1              1.20   3.60                 2  \n",
       "2              1.20   2.40                 2  \n",
       "3              1.15   1.15                 2  \n",
       "4              1.20   6.00                 2  "
      ]
     },
     "execution_count": 16,
     "metadata": {},
     "output_type": "execute_result"
    }
   ],
   "source": [
    "data.head()"
   ]
  },
  {
   "cell_type": "code",
   "execution_count": 17,
   "metadata": {},
   "outputs": [
    {
     "name": "stdout",
     "output_type": "stream",
     "text": [
      "        date       day\n",
      "0 2021-01-02  Saturday\n",
      "1 2021-01-02  Saturday\n",
      "2 2021-01-02  Saturday\n",
      "3 2021-01-02  Saturday\n",
      "4 2021-01-02  Saturday\n"
     ]
    }
   ],
   "source": [
    "# Ensure the 'date' column is in datetime format\n",
    "data['date'] = pd.to_datetime(data['date'])\n",
    "\n",
    "# Create a new column 'day' with the day name\n",
    "data['day'] = data['date'].dt.day_name()\n",
    "\n",
    "# Display the first few rows to check\n",
    "print(data[['date', 'day']].head())"
   ]
  },
  {
   "cell_type": "code",
   "execution_count": 18,
   "metadata": {},
   "outputs": [
    {
     "data": {
      "text/html": [
       "<div>\n",
       "<style scoped>\n",
       "    .dataframe tbody tr th:only-of-type {\n",
       "        vertical-align: middle;\n",
       "    }\n",
       "\n",
       "    .dataframe tbody tr th {\n",
       "        vertical-align: top;\n",
       "    }\n",
       "\n",
       "    .dataframe thead th {\n",
       "        text-align: right;\n",
       "    }\n",
       "</style>\n",
       "<table border=\"1\" class=\"dataframe\">\n",
       "  <thead>\n",
       "    <tr style=\"text-align: right;\">\n",
       "      <th></th>\n",
       "      <th>date</th>\n",
       "      <th>time</th>\n",
       "      <th>ticket_number</th>\n",
       "      <th>article</th>\n",
       "      <th>Quantity</th>\n",
       "      <th>unit_price</th>\n",
       "      <th>unit_price_clean</th>\n",
       "      <th>price</th>\n",
       "      <th>day_of_the_month</th>\n",
       "      <th>day</th>\n",
       "    </tr>\n",
       "  </thead>\n",
       "  <tbody>\n",
       "    <tr>\n",
       "      <th>0</th>\n",
       "      <td>2021-01-02</td>\n",
       "      <td>08:38</td>\n",
       "      <td>150040.0</td>\n",
       "      <td>BAGUETTE</td>\n",
       "      <td>1.0</td>\n",
       "      <td>0,90 €</td>\n",
       "      <td>0.90</td>\n",
       "      <td>0.90</td>\n",
       "      <td>2</td>\n",
       "      <td>Saturday</td>\n",
       "    </tr>\n",
       "    <tr>\n",
       "      <th>1</th>\n",
       "      <td>2021-01-02</td>\n",
       "      <td>08:38</td>\n",
       "      <td>150040.0</td>\n",
       "      <td>PAIN AU CHOCOLAT</td>\n",
       "      <td>3.0</td>\n",
       "      <td>1,20 €</td>\n",
       "      <td>1.20</td>\n",
       "      <td>3.60</td>\n",
       "      <td>2</td>\n",
       "      <td>Saturday</td>\n",
       "    </tr>\n",
       "    <tr>\n",
       "      <th>2</th>\n",
       "      <td>2021-01-02</td>\n",
       "      <td>09:14</td>\n",
       "      <td>150041.0</td>\n",
       "      <td>PAIN AU CHOCOLAT</td>\n",
       "      <td>2.0</td>\n",
       "      <td>1,20 €</td>\n",
       "      <td>1.20</td>\n",
       "      <td>2.40</td>\n",
       "      <td>2</td>\n",
       "      <td>Saturday</td>\n",
       "    </tr>\n",
       "    <tr>\n",
       "      <th>3</th>\n",
       "      <td>2021-01-02</td>\n",
       "      <td>09:14</td>\n",
       "      <td>150041.0</td>\n",
       "      <td>PAIN</td>\n",
       "      <td>1.0</td>\n",
       "      <td>1,15 €</td>\n",
       "      <td>1.15</td>\n",
       "      <td>1.15</td>\n",
       "      <td>2</td>\n",
       "      <td>Saturday</td>\n",
       "    </tr>\n",
       "    <tr>\n",
       "      <th>4</th>\n",
       "      <td>2021-01-02</td>\n",
       "      <td>09:25</td>\n",
       "      <td>150042.0</td>\n",
       "      <td>TRADITIONAL BAGUETTE</td>\n",
       "      <td>5.0</td>\n",
       "      <td>1,20 €</td>\n",
       "      <td>1.20</td>\n",
       "      <td>6.00</td>\n",
       "      <td>2</td>\n",
       "      <td>Saturday</td>\n",
       "    </tr>\n",
       "  </tbody>\n",
       "</table>\n",
       "</div>"
      ],
      "text/plain": [
       "        date   time  ticket_number               article  Quantity unit_price  \\\n",
       "0 2021-01-02  08:38       150040.0              BAGUETTE       1.0     0,90 €   \n",
       "1 2021-01-02  08:38       150040.0      PAIN AU CHOCOLAT       3.0     1,20 €   \n",
       "2 2021-01-02  09:14       150041.0      PAIN AU CHOCOLAT       2.0     1,20 €   \n",
       "3 2021-01-02  09:14       150041.0                  PAIN       1.0     1,15 €   \n",
       "4 2021-01-02  09:25       150042.0  TRADITIONAL BAGUETTE       5.0     1,20 €   \n",
       "\n",
       "   unit_price_clean  price  day_of_the_month       day  \n",
       "0              0.90   0.90                 2  Saturday  \n",
       "1              1.20   3.60                 2  Saturday  \n",
       "2              1.20   2.40                 2  Saturday  \n",
       "3              1.15   1.15                 2  Saturday  \n",
       "4              1.20   6.00                 2  Saturday  "
      ]
     },
     "execution_count": 18,
     "metadata": {},
     "output_type": "execute_result"
    }
   ],
   "source": [
    "data.head()"
   ]
  },
  {
   "cell_type": "code",
   "execution_count": 19,
   "metadata": {},
   "outputs": [
    {
     "data": {
      "text/html": [
       "<div>\n",
       "<style scoped>\n",
       "    .dataframe tbody tr th:only-of-type {\n",
       "        vertical-align: middle;\n",
       "    }\n",
       "\n",
       "    .dataframe tbody tr th {\n",
       "        vertical-align: top;\n",
       "    }\n",
       "\n",
       "    .dataframe thead th {\n",
       "        text-align: right;\n",
       "    }\n",
       "</style>\n",
       "<table border=\"1\" class=\"dataframe\">\n",
       "  <thead>\n",
       "    <tr style=\"text-align: right;\">\n",
       "      <th></th>\n",
       "      <th>date</th>\n",
       "      <th>time</th>\n",
       "      <th>ticket_number</th>\n",
       "      <th>article</th>\n",
       "      <th>Quantity</th>\n",
       "      <th>unit_price</th>\n",
       "      <th>unit_price_clean</th>\n",
       "      <th>price</th>\n",
       "      <th>day_of_the_month</th>\n",
       "      <th>day</th>\n",
       "    </tr>\n",
       "  </thead>\n",
       "  <tbody>\n",
       "    <tr>\n",
       "      <th>234000</th>\n",
       "      <td>2022-09-30</td>\n",
       "      <td>18:52</td>\n",
       "      <td>288911.0</td>\n",
       "      <td>COUPE</td>\n",
       "      <td>1.0</td>\n",
       "      <td>0,15 €</td>\n",
       "      <td>0.15</td>\n",
       "      <td>0.15</td>\n",
       "      <td>30</td>\n",
       "      <td>Friday</td>\n",
       "    </tr>\n",
       "    <tr>\n",
       "      <th>234001</th>\n",
       "      <td>2022-09-30</td>\n",
       "      <td>18:52</td>\n",
       "      <td>288911.0</td>\n",
       "      <td>BOULE 200G</td>\n",
       "      <td>1.0</td>\n",
       "      <td>1,20 €</td>\n",
       "      <td>1.20</td>\n",
       "      <td>1.20</td>\n",
       "      <td>30</td>\n",
       "      <td>Friday</td>\n",
       "    </tr>\n",
       "    <tr>\n",
       "      <th>234002</th>\n",
       "      <td>2022-09-30</td>\n",
       "      <td>18:52</td>\n",
       "      <td>288911.0</td>\n",
       "      <td>COUPE</td>\n",
       "      <td>2.0</td>\n",
       "      <td>0,15 €</td>\n",
       "      <td>0.15</td>\n",
       "      <td>0.30</td>\n",
       "      <td>30</td>\n",
       "      <td>Friday</td>\n",
       "    </tr>\n",
       "    <tr>\n",
       "      <th>234003</th>\n",
       "      <td>2022-09-30</td>\n",
       "      <td>18:55</td>\n",
       "      <td>288912.0</td>\n",
       "      <td>TRADITIONAL BAGUETTE</td>\n",
       "      <td>1.0</td>\n",
       "      <td>1,30 €</td>\n",
       "      <td>1.30</td>\n",
       "      <td>1.30</td>\n",
       "      <td>30</td>\n",
       "      <td>Friday</td>\n",
       "    </tr>\n",
       "    <tr>\n",
       "      <th>234004</th>\n",
       "      <td>2022-09-30</td>\n",
       "      <td>18:56</td>\n",
       "      <td>288913.0</td>\n",
       "      <td>TRADITIONAL BAGUETTE</td>\n",
       "      <td>1.0</td>\n",
       "      <td>1,30 €</td>\n",
       "      <td>1.30</td>\n",
       "      <td>1.30</td>\n",
       "      <td>30</td>\n",
       "      <td>Friday</td>\n",
       "    </tr>\n",
       "  </tbody>\n",
       "</table>\n",
       "</div>"
      ],
      "text/plain": [
       "             date   time  ticket_number               article  Quantity  \\\n",
       "234000 2022-09-30  18:52       288911.0                 COUPE       1.0   \n",
       "234001 2022-09-30  18:52       288911.0            BOULE 200G       1.0   \n",
       "234002 2022-09-30  18:52       288911.0                 COUPE       2.0   \n",
       "234003 2022-09-30  18:55       288912.0  TRADITIONAL BAGUETTE       1.0   \n",
       "234004 2022-09-30  18:56       288913.0  TRADITIONAL BAGUETTE       1.0   \n",
       "\n",
       "       unit_price  unit_price_clean  price  day_of_the_month     day  \n",
       "234000     0,15 €              0.15   0.15                30  Friday  \n",
       "234001     1,20 €              1.20   1.20                30  Friday  \n",
       "234002     0,15 €              0.15   0.30                30  Friday  \n",
       "234003     1,30 €              1.30   1.30                30  Friday  \n",
       "234004     1,30 €              1.30   1.30                30  Friday  "
      ]
     },
     "execution_count": 19,
     "metadata": {},
     "output_type": "execute_result"
    }
   ],
   "source": [
    "data.tail()"
   ]
  },
  {
   "cell_type": "code",
   "execution_count": 20,
   "metadata": {},
   "outputs": [
    {
     "name": "stdout",
     "output_type": "stream",
     "text": [
      "Total unique articles: 149\n"
     ]
    }
   ],
   "source": [
    "# Count total unique values in the 'article' column\n",
    "unique_articles = data['article'].nunique()\n",
    "print(\"Total unique articles:\", unique_articles)"
   ]
  },
  {
   "cell_type": "code",
   "execution_count": 21,
   "metadata": {},
   "outputs": [
    {
     "name": "stdout",
     "output_type": "stream",
     "text": [
      "['BAGUETTE' 'PAIN AU CHOCOLAT' 'PAIN' 'TRADITIONAL BAGUETTE' 'CROISSANT'\n",
      " 'BANETTE' 'BANETTINE' 'SPECIAL BREAD' 'COUPE' 'SAND JB EMMENTAL'\n",
      " 'KOUIGN AMANN' 'BOULE 200G' 'BOULE 400G' 'GAL FRANGIPANE 6P' 'CAMPAGNE'\n",
      " 'MOISSON' 'CAFE OU EAU' 'BRIOCHE' 'CEREAL BAGUETTE' 'SEIGLE' 'COMPLET'\n",
      " 'DIVERS PATISSERIE' 'GAL FRANGIPANE 4P' 'COOKIE' 'FICELLE'\n",
      " 'PAIN AUX RAISINS' 'GAL POMME 6P' 'GAL POMME 4P' 'FINANCIER X5'\n",
      " 'VIK BREAD' 'DIVERS VIENNOISERIE' 'GACHE' 'SANDWICH COMPLET'\n",
      " 'PAIN BANETTE' 'GRAND FAR BRETON' 'QUIM BREAD' 'SPECIAL BREAD KG'\n",
      " 'GD KOUIGN AMANN' 'BOULE POLKA' 'DEMI BAGUETTE' 'CHAUSSON AUX POMMES'\n",
      " 'BAGUETTE GRAINE' 'DIVERS CONFISERIE' 'SUCETTE' 'DIVERS BOULANGERIE'\n",
      " 'BOISSON 33CL' 'PATES' 'FORMULE SANDWICH' 'DIVERS SANDWICHS'\n",
      " 'CROISSANT AMANDES' 'PAIN CHOCO AMANDES' 'SACHET VIENNOISERIE' 'NANTAIS'\n",
      " 'CHOCOLAT' 'PAIN S/SEL' 'FONDANT CHOCOLAT' 'GAL POIRE CHOCO 6P'\n",
      " 'GAL POIRE CHOCO 4P' 'GALETTE 8 PERS' 'SAND JB' 'SACHET DE CROUTON'\n",
      " 'GRANDE SUCETTE' 'DEMI PAIN' 'TARTELETTE' 'FLAN' 'PARIS BREST' 'SAVARIN'\n",
      " 'FLAN ABRICOT' 'BAGUETTE APERO' 'MILLES FEUILLES' 'CHOU CHANTILLY'\n",
      " 'ECLAIR' 'ROYAL 4P' 'TARTE FRUITS 6P' 'TARTE FRUITS 4P' 'NOIX JAPONAISE'\n",
      " 'THE' 'BRIOCHETTE' 'ROYAL 6P' 'ECLAIR FRAISE PISTACHE' '.'\n",
      " 'GD FAR BRETON' 'TRIANGLES' 'TROPEZIENNE' 'TROPEZIENNE FRAMBOISE' 'ROYAL'\n",
      " 'TARTE FRAISE 6P' 'TARTELETTE FRAISE' 'TARTE FRAISE 4PER' 'FRAISIER'\n",
      " 'NID DE POULE' 'TARTELETTE CHOC' 'PAIN DE MIE' 'CRUMBLE' 'FINANCIER'\n",
      " 'DIVERS BOISSONS' 'CAKE' 'VIENNOISE' 'TRAITEUR' 'PAIN GRAINES'\n",
      " 'PLATPREPARE6,50' 'PLATPREPARE5,50' 'PLATPREPARE7,00'\n",
      " 'FORMULE PLAT PREPARE' 'ST HONORE' 'BROWNIES' 'RELIGIEUSE'\n",
      " 'PLATPREPARE6,00' 'DELICETROPICAL' 'CRUMBLECARAMEL OU PISTAE'\n",
      " 'PT NANTAIS' 'GD NANTAIS' 'DOUCEUR D HIVER' 'TROIS CHOCOLAT'\n",
      " 'ARTICLE 295' 'TARTE FINE' 'ENTREMETS' 'BRIOCHE DE NOEL' 'FRAMBOISIER'\n",
      " 'BUCHE 4PERS' 'BUCHE 6PERS' 'GD PLATEAU SALE' 'BUCHE 8PERS'\n",
      " 'PT PLATEAU SALE' 'REDUCTION SUCREES 12' 'PAIN NOIR'\n",
      " 'REDUCTION SUCREES 24' 'BOTTEREAU' 'MERINGUE' 'PALMIER' 'PAILLE'\n",
      " 'PLAT 6.50E' 'PLAT 7.60E' 'PLAT 7.00' 'PLAT' 'PLAT 8.30E' 'FORMULE PATE'\n",
      " 'GUERANDAIS' 'PALET BRETON' 'CARAMEL NOIX' 'MACARON' '12 MACARON'\n",
      " 'ARMORICAIN' 'PLAQUE TARTE 25P' 'SABLE F  P' 'PAIN SUISSE PEPITO'\n",
      " 'TULIPE' 'TARTELETTE COCKTAIL' 'SACHET DE VIENNOISERIE']\n"
     ]
    }
   ],
   "source": [
    "print(data['article'].unique())"
   ]
  },
  {
   "cell_type": "code",
   "execution_count": 22,
   "metadata": {},
   "outputs": [
    {
     "name": "stdout",
     "output_type": "stream",
     "text": [
      "article\n",
      "TRADITIONAL BAGUETTE      117463.0\n",
      "CROISSANT                  29654.0\n",
      "PAIN AU CHOCOLAT           25236.0\n",
      "COUPE                      23505.0\n",
      "BANETTE                    22732.0\n",
      "                            ...   \n",
      "PLATPREPARE6,00                1.0\n",
      "SACHET DE VIENNOISERIE         1.0\n",
      "REDUCTION SUCREES 24           1.0\n",
      "TROIS CHOCOLAT                 1.0\n",
      "PLAT 6.50E                     0.0\n",
      "Name: Quantity, Length: 149, dtype: float64\n"
     ]
    }
   ],
   "source": [
    "# Group by 'article' and sum the 'Quantity' to get total sold for each product\n",
    "product_sales = data.groupby('article')['Quantity'].sum().sort_values(ascending=False)\n",
    "\n",
    "# Display the result\n",
    "print(product_sales)"
   ]
  },
  {
   "cell_type": "code",
   "execution_count": 23,
   "metadata": {},
   "outputs": [
    {
     "data": {
      "text/plain": [
       "(234005, 10)"
      ]
     },
     "execution_count": 23,
     "metadata": {},
     "output_type": "execute_result"
    }
   ],
   "source": [
    "data.shape"
   ]
  },
  {
   "cell_type": "code",
   "execution_count": 24,
   "metadata": {},
   "outputs": [
    {
     "name": "stdout",
     "output_type": "stream",
     "text": [
      "       time time_period\n",
      "0  08:38:00     morning\n",
      "1  08:38:00     morning\n",
      "2  09:14:00     morning\n",
      "3  09:14:00     morning\n",
      "4  09:25:00     morning\n"
     ]
    }
   ],
   "source": [
    "# First, ensure 'time' is in datetime format (only the time part)\n",
    "data['time'] = pd.to_datetime(data['time'], format='%H:%M').dt.time\n",
    "\n",
    "# Define a function to map time to period\n",
    "def get_time_period(t):\n",
    "    hour = t.hour\n",
    "    if 5 <= hour < 12:\n",
    "        return 'morning'\n",
    "    elif 12 <= hour < 14:\n",
    "        return 'noon'\n",
    "    elif 14 <= hour < 17:\n",
    "        return 'afternoon'\n",
    "    elif 17 <= hour < 21:\n",
    "        return 'evening'\n",
    "    else:\n",
    "        return 'night'\n",
    "\n",
    "# Apply the function to create the new column\n",
    "data['time_period'] = data['time'].apply(get_time_period)\n",
    "\n",
    "# Display the first few rows to check\n",
    "print(data[['time', 'time_period']].head())"
   ]
  },
  {
   "cell_type": "code",
   "execution_count": 25,
   "metadata": {},
   "outputs": [
    {
     "data": {
      "text/html": [
       "<div>\n",
       "<style scoped>\n",
       "    .dataframe tbody tr th:only-of-type {\n",
       "        vertical-align: middle;\n",
       "    }\n",
       "\n",
       "    .dataframe tbody tr th {\n",
       "        vertical-align: top;\n",
       "    }\n",
       "\n",
       "    .dataframe thead th {\n",
       "        text-align: right;\n",
       "    }\n",
       "</style>\n",
       "<table border=\"1\" class=\"dataframe\">\n",
       "  <thead>\n",
       "    <tr style=\"text-align: right;\">\n",
       "      <th></th>\n",
       "      <th>date</th>\n",
       "      <th>time</th>\n",
       "      <th>ticket_number</th>\n",
       "      <th>article</th>\n",
       "      <th>Quantity</th>\n",
       "      <th>unit_price</th>\n",
       "      <th>unit_price_clean</th>\n",
       "      <th>price</th>\n",
       "      <th>day_of_the_month</th>\n",
       "      <th>day</th>\n",
       "      <th>time_period</th>\n",
       "    </tr>\n",
       "  </thead>\n",
       "  <tbody>\n",
       "    <tr>\n",
       "      <th>0</th>\n",
       "      <td>2021-01-02</td>\n",
       "      <td>08:38:00</td>\n",
       "      <td>150040.0</td>\n",
       "      <td>BAGUETTE</td>\n",
       "      <td>1.0</td>\n",
       "      <td>0,90 €</td>\n",
       "      <td>0.90</td>\n",
       "      <td>0.90</td>\n",
       "      <td>2</td>\n",
       "      <td>Saturday</td>\n",
       "      <td>morning</td>\n",
       "    </tr>\n",
       "    <tr>\n",
       "      <th>1</th>\n",
       "      <td>2021-01-02</td>\n",
       "      <td>08:38:00</td>\n",
       "      <td>150040.0</td>\n",
       "      <td>PAIN AU CHOCOLAT</td>\n",
       "      <td>3.0</td>\n",
       "      <td>1,20 €</td>\n",
       "      <td>1.20</td>\n",
       "      <td>3.60</td>\n",
       "      <td>2</td>\n",
       "      <td>Saturday</td>\n",
       "      <td>morning</td>\n",
       "    </tr>\n",
       "    <tr>\n",
       "      <th>2</th>\n",
       "      <td>2021-01-02</td>\n",
       "      <td>09:14:00</td>\n",
       "      <td>150041.0</td>\n",
       "      <td>PAIN AU CHOCOLAT</td>\n",
       "      <td>2.0</td>\n",
       "      <td>1,20 €</td>\n",
       "      <td>1.20</td>\n",
       "      <td>2.40</td>\n",
       "      <td>2</td>\n",
       "      <td>Saturday</td>\n",
       "      <td>morning</td>\n",
       "    </tr>\n",
       "    <tr>\n",
       "      <th>3</th>\n",
       "      <td>2021-01-02</td>\n",
       "      <td>09:14:00</td>\n",
       "      <td>150041.0</td>\n",
       "      <td>PAIN</td>\n",
       "      <td>1.0</td>\n",
       "      <td>1,15 €</td>\n",
       "      <td>1.15</td>\n",
       "      <td>1.15</td>\n",
       "      <td>2</td>\n",
       "      <td>Saturday</td>\n",
       "      <td>morning</td>\n",
       "    </tr>\n",
       "    <tr>\n",
       "      <th>4</th>\n",
       "      <td>2021-01-02</td>\n",
       "      <td>09:25:00</td>\n",
       "      <td>150042.0</td>\n",
       "      <td>TRADITIONAL BAGUETTE</td>\n",
       "      <td>5.0</td>\n",
       "      <td>1,20 €</td>\n",
       "      <td>1.20</td>\n",
       "      <td>6.00</td>\n",
       "      <td>2</td>\n",
       "      <td>Saturday</td>\n",
       "      <td>morning</td>\n",
       "    </tr>\n",
       "  </tbody>\n",
       "</table>\n",
       "</div>"
      ],
      "text/plain": [
       "        date      time  ticket_number               article  Quantity  \\\n",
       "0 2021-01-02  08:38:00       150040.0              BAGUETTE       1.0   \n",
       "1 2021-01-02  08:38:00       150040.0      PAIN AU CHOCOLAT       3.0   \n",
       "2 2021-01-02  09:14:00       150041.0      PAIN AU CHOCOLAT       2.0   \n",
       "3 2021-01-02  09:14:00       150041.0                  PAIN       1.0   \n",
       "4 2021-01-02  09:25:00       150042.0  TRADITIONAL BAGUETTE       5.0   \n",
       "\n",
       "  unit_price  unit_price_clean  price  day_of_the_month       day time_period  \n",
       "0     0,90 €              0.90   0.90                 2  Saturday     morning  \n",
       "1     1,20 €              1.20   3.60                 2  Saturday     morning  \n",
       "2     1,20 €              1.20   2.40                 2  Saturday     morning  \n",
       "3     1,15 €              1.15   1.15                 2  Saturday     morning  \n",
       "4     1,20 €              1.20   6.00                 2  Saturday     morning  "
      ]
     },
     "execution_count": 25,
     "metadata": {},
     "output_type": "execute_result"
    }
   ],
   "source": [
    "data.head()"
   ]
  },
  {
   "cell_type": "code",
   "execution_count": 26,
   "metadata": {},
   "outputs": [
    {
     "name": "stdout",
     "output_type": "stream",
     "text": [
      "        date    month\n",
      "0 2021-01-02  January\n",
      "1 2021-01-02  January\n",
      "2 2021-01-02  January\n",
      "3 2021-01-02  January\n",
      "4 2021-01-02  January\n"
     ]
    }
   ],
   "source": [
    "# Ensure the 'date' column is in datetime format\n",
    "data['date'] = pd.to_datetime(data['date'])\n",
    "\n",
    "# Create a new column 'month' with the month name\n",
    "data['month'] = data['date'].dt.month_name()\n",
    "\n",
    "# Display the first few rows to check\n",
    "print(data[['date', 'month']].head())"
   ]
  },
  {
   "cell_type": "code",
   "execution_count": 27,
   "metadata": {},
   "outputs": [
    {
     "data": {
      "text/plain": [
       "(234005, 12)"
      ]
     },
     "execution_count": 27,
     "metadata": {},
     "output_type": "execute_result"
    }
   ],
   "source": [
    "data.shape"
   ]
  },
  {
   "cell_type": "markdown",
   "metadata": {},
   "source": [
    "## Visualization"
   ]
  },
  {
   "cell_type": "code",
   "execution_count": 28,
   "metadata": {},
   "outputs": [
    {
     "data": {
      "image/png": "[encoded data removed]",
      "text/plain": [
       "<Figure size 1200x600 with 1 Axes>"
      ]
     },
     "metadata": {},
     "output_type": "display_data"
    }
   ],
   "source": [
    "# Group by 'article' and sum the 'Quantity'\n",
    "product_sales = data.groupby('article')['Quantity'].sum().sort_values(ascending=False)\n",
    "\n",
    "# Select the top 10 most sold items\n",
    "top_n = 10\n",
    "top_products = product_sales.head(top_n).reset_index()\n",
    "\n",
    "# Plot using seaborn\n",
    "plt.figure(figsize=(12, 6))\n",
    "sns.barplot(data=top_products, x='Quantity', y='article', palette='viridis')\n",
    "plt.title(f'Top {top_n} Most Sold Bakery Items')\n",
    "plt.xlabel('Total Quantity Sold')\n",
    "plt.ylabel('Article')\n",
    "plt.tight_layout()\n",
    "plt.show()"
   ]
  },
  {
   "cell_type": "code",
   "execution_count": 29,
   "metadata": {},
   "outputs": [
    {
     "name": "stdout",
     "output_type": "stream",
     "text": [
      "time_period\n",
      "morning      254981.0\n",
      "noon          61009.0\n",
      "evening       31206.0\n",
      "afternoon     12792.0\n",
      "Name: Quantity, dtype: float64\n"
     ]
    },
    {
     "data": {
      "image/png": "[encoded data removed]",
      "text/plain": [
       "<Figure size 800x500 with 1 Axes>"
      ]
     },
     "metadata": {},
     "output_type": "display_data"
    }
   ],
   "source": [
    "# Group by 'time_period' and sum the 'Quantity'\n",
    "time_period_sales = data.groupby('time_period')['Quantity'].sum().sort_values(ascending=False)\n",
    "\n",
    "# Display the result\n",
    "print(time_period_sales)\n",
    "\n",
    "# Plot using seaborn\n",
    "plt.figure(figsize=(8, 5))\n",
    "sns.barplot(x=time_period_sales.index, y=time_period_sales.values, palette='mako')\n",
    "plt.title('Total Items Sold by Time Period')\n",
    "plt.xlabel('Time Period')\n",
    "plt.ylabel('Total Quantity Sold')\n",
    "plt.tight_layout()\n",
    "plt.show()"
   ]
  },
  {
   "cell_type": "code",
   "execution_count": 30,
   "metadata": {},
   "outputs": [
    {
     "name": "stdout",
     "output_type": "stream",
     "text": [
      "day\n",
      "Sunday       83413.0\n",
      "Saturday     61702.0\n",
      "Friday       48115.0\n",
      "Monday       47715.0\n",
      "Thursday     44924.0\n",
      "Tuesday      42491.0\n",
      "Wednesday    31628.0\n",
      "Name: Quantity, dtype: float64\n"
     ]
    },
    {
     "data": {
      "image/png": "[encoded data removed]",
      "text/plain": [
       "<Figure size 1000x500 with 1 Axes>"
      ]
     },
     "metadata": {},
     "output_type": "display_data"
    }
   ],
   "source": [
    "# Group by 'day' and sum the 'Quantity'\n",
    "day_sales = data.groupby('day')['Quantity'].sum().sort_values(ascending=False)\n",
    "\n",
    "# Display the result\n",
    "print(day_sales)\n",
    "\n",
    "# To ensure days are in calendar order, you can use:\n",
    "days_order = ['Monday', 'Tuesday', 'Wednesday', 'Thursday', 'Friday', 'Saturday', 'Sunday']\n",
    "day_sales = day_sales.reindex(days_order)\n",
    "\n",
    "# Plot using seaborn\n",
    "plt.figure(figsize=(10, 5))\n",
    "sns.barplot(x=day_sales.index, y=day_sales.values, palette='crest')\n",
    "plt.title('Total Items Sold by Day of the Week')\n",
    "plt.xlabel('Day')\n",
    "plt.ylabel('Total Quantity Sold')\n",
    "plt.tight_layout()\n",
    "plt.show()"
   ]
  },
  {
   "cell_type": "code",
   "execution_count": 31,
   "metadata": {},
   "outputs": [
    {
     "name": "stdout",
     "output_type": "stream",
     "text": [
      "month\n",
      "August       66873.0\n",
      "July         57529.0\n",
      "May          37112.0\n",
      "June         32028.0\n",
      "April        31479.0\n",
      "September    28709.0\n",
      "March        25583.0\n",
      "February     23365.0\n",
      "January      18428.0\n",
      "October      14971.0\n",
      "December     12138.0\n",
      "November     11773.0\n",
      "Name: Quantity, dtype: float64\n"
     ]
    },
    {
     "data": {
      "image/png": "[encoded data removed]",
      "text/plain": [
       "<Figure size 1200x500 with 1 Axes>"
      ]
     },
     "metadata": {},
     "output_type": "display_data"
    }
   ],
   "source": [
    "# Ensure 'month' column is in the correct order\n",
    "months_order = [\n",
    "    'January', 'February', 'March', 'April', 'May', 'June',\n",
    "    'July', 'August', 'September', 'October', 'November', 'December'\n",
    "]\n",
    "data['month'] = pd.Categorical(data['month'], categories=months_order, ordered=True)\n",
    "\n",
    "# Group by 'month' and sum the 'Quantity'\n",
    "month_sales = data.groupby('month')['Quantity'].sum().sort_values(ascending=False)\n",
    "\n",
    "# Display the result\n",
    "print(month_sales)\n",
    "\n",
    "# Plot using seaborn\n",
    "plt.figure(figsize=(12, 5))\n",
    "sns.barplot(x=month_sales.index, y=month_sales.values, palette='flare')\n",
    "plt.title('Total Items Sold by Month')\n",
    "plt.xlabel('Month')\n",
    "plt.ylabel('Total Quantity Sold')\n",
    "plt.tight_layout()\n",
    "plt.show()"
   ]
  }
 ],
 "metadata": {
  "kernelspec": {
   "display_name": ".venv",
   "language": "python",
   "name": "python3"
  },
  "language_info": {
   "codemirror_mode": {
    "name": "ipython",
    "version": 3
   },
   "file_extension": ".py",
   "mimetype": "text/x-python",
   "name": "python",
   "nbconvert_exporter": "python",
   "pygments_lexer": "ipython3",
   "version": "3.12.10"
  }
 },
 "nbformat": 4,
 "nbformat_minor": 2
}
